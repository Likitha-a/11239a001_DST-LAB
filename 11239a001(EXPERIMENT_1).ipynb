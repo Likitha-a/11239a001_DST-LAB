{
  "nbformat": 4,
  "nbformat_minor": 0,
  "metadata": {
    "colab": {
      "provenance": [],
      "authorship_tag": "ABX9TyMA2H6gvLl3dZ4NYNYAguV8",
      "include_colab_link": true
    },
    "kernelspec": {
      "name": "python3",
      "display_name": "Python 3"
    },
    "language_info": {
      "name": "python"
    }
  },
  "cells": [
    {
      "cell_type": "markdown",
      "metadata": {
        "id": "view-in-github",
        "colab_type": "text"
      },
      "source": [
        "<a href=\"https://colab.research.google.com/github/Likitha-a/11239a001_DST-LAB/blob/main/11239a001(EXPERIMENT_1).ipynb\" target=\"_parent\"><img src=\"https://colab.research.google.com/assets/colab-badge.svg\" alt=\"Open In Colab\"/></a>"
      ]
    },
    {
      "cell_type": "code",
      "execution_count": null,
      "metadata": {
        "id": "GxjtxyQwSTO9"
      },
      "outputs": [],
      "source": []
    },
    {
      "cell_type": "code",
      "source": [
        "#Experiment - 1\n",
        "# Demonstrating basic data types\n",
        "int_var = 10  # Integer\n",
        "float_var = 20.5  # Float\n",
        "string_var = \"Hello, Python!\"  # String\n",
        "list_var = [1, 2, 3, 4]  # List\n",
        "tuple_var = (5, 6, 7, 8)  # Tuple\n",
        "set_var = {1, 2, 2, 3}  # Set (removes duplicates)\n",
        "\n",
        "dict_var = {'a': 1, 'b': 2, 'c': 3}  # Dictionary\n",
        "\n",
        "print(f\"Integer: {int_var}\")\n",
        "print(f\"Float: {float_var}\")\n",
        "print(f\"String: {string_var}\")\n",
        "print(f\"List: {list_var}\")\n",
        "print(f\"Tuple: {tuple_var}\")\n",
        "print(f\"Set: {set_var}\")\n",
        "print(f\"Dictionary: {dict_var}\")\n",
        "\n",
        "# 3. Practice Basic Operations\n",
        "# Arithmetic operations\n",
        "a, b = 15, 4\n",
        "print(\"Addition:\", a + b)\n",
        "print(\"Subtraction:\", a - b)\n",
        "print(\"Multiplication:\", a * b)\n",
        "print(\"Division:\", a / b)\n",
        "\n",
        "# String manipulation\n",
        "text = \"Data Science\"\n",
        "print(\"Uppercase:\", text.upper())\n",
        "print(\"Reversed:\", text[::-1])\n",
        "\n",
        "# List slicing\n",
        "my_list = [10, 20, 30, 40, 50]\n",
        "print(\"First three elements:\", my_list[:3])\n",
        "print(\"Last two elements:\", my_list[-2:])"
      ],
      "metadata": {
        "colab": {
          "base_uri": "https://localhost:8080/"
        },
        "id": "9sixAAjdSYvz",
        "outputId": "0ad23bdc-6db0-4963-b095-2d919fc50016"
      },
      "execution_count": 1,
      "outputs": [
        {
          "output_type": "stream",
          "name": "stdout",
          "text": [
            "Integer: 10\n",
            "Float: 20.5\n",
            "String: Hello, Python!\n",
            "List: [1, 2, 3, 4]\n",
            "Tuple: (5, 6, 7, 8)\n",
            "Set: {1, 2, 3}\n",
            "Dictionary: {'a': 1, 'b': 2, 'c': 3}\n",
            "Addition: 19\n",
            "Subtraction: 11\n",
            "Multiplication: 60\n",
            "Division: 3.75\n",
            "Uppercase: DATA SCIENCE\n",
            "Reversed: ecneicS ataD\n",
            "First three elements: [10, 20, 30]\n",
            "Last two elements: [40, 50]\n"
          ]
        }
      ]
    }
  ]
}